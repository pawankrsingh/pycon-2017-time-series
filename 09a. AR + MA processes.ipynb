{
 "cells": [
  {
   "cell_type": "code",
   "execution_count": null,
   "metadata": {
    "collapsed": false
   },
   "outputs": [],
   "source": [
    "%matplotlib inline\n",
    "import matplotlib.pylab as plt\n",
    "\n",
    "import pandas as pd\n",
    "import numpy as np\n",
    "\n",
    "from statsmodels.tsa.stattools import acf, pacf"
   ]
  },
  {
   "cell_type": "markdown",
   "metadata": {},
   "source": [
    "### First let's figure out how to generate an AR proces"
   ]
  },
  {
   "cell_type": "code",
   "execution_count": null,
   "metadata": {
    "collapsed": false
   },
   "outputs": [],
   "source": [
    "def ar1(phi = .9, n = 1000, init = 0):\n",
    "    time_series = [init]\n",
    "    error = np.random.randn(n)\n",
    "    for period in range(n):\n",
    "        time_series.append(error[period] + phi*time_series[-1])\n",
    "    return pd.Series(time_series[1:], index = range(n))\n",
    "    \n",
    "def ar2(phi1 = .9, phi2 = -.8, n = 1000, init = 0):\n",
    "    time_series = [init, init]\n",
    "    error = np.random.randn(n)\n",
    "    for period in range(2,n):\n",
    "        time_series.append(error[period] + phi1*time_series[-1] + phi2*time_series[-2])\n",
    "    return pd.Series(time_series[1:], index = range(1,n))\n",
    "    "
   ]
  },
  {
   "cell_type": "code",
   "execution_count": null,
   "metadata": {
    "collapsed": false
   },
   "outputs": [],
   "source": [
    "# try out different values of phi >=1 as compared to < 1\n",
    "# sometimes you need to make a large n to see lack of stationarity\n",
    "a1 = ar1(phi = 1.1, n = 40)\n",
    "a1.plot()"
   ]
  },
  {
   "cell_type": "code",
   "execution_count": null,
   "metadata": {
    "collapsed": false
   },
   "outputs": [],
   "source": [
    "# try out different values of phi >=1 as compared to < 1\n",
    "# sometimes you need to make a large n to see lack of stationarity\n",
    "a2 = ar2(n = 50, phi2 = 1.7)\n",
    "a2.plot()"
   ]
  },
  {
   "cell_type": "markdown",
   "metadata": {},
   "source": [
    "### Now let's generate an MA process"
   ]
  },
  {
   "cell_type": "code",
   "execution_count": null,
   "metadata": {
    "collapsed": false
   },
   "outputs": [],
   "source": [
    "# %load snippets/7ma.py"
   ]
  },
  {
   "cell_type": "code",
   "execution_count": null,
   "metadata": {
    "collapsed": false
   },
   "outputs": [],
   "source": [
    "m1 = ma1(theta = -1000)\n",
    "m1.plot()"
   ]
  },
  {
   "cell_type": "markdown",
   "metadata": {},
   "source": [
    "### Let's look at ACF + PACF for each kind of process"
   ]
  },
  {
   "cell_type": "code",
   "execution_count": null,
   "metadata": {
    "collapsed": false
   },
   "outputs": [],
   "source": [
    "a1 = ar1(phi = .5, n = 1000)\n",
    "a1_acf = acf(a1, nlags = 20)\n",
    "plt.plot(a1_acf)\n",
    "plt.axhline(y=0,linestyle='--', color = 'black')\n",
    "plt.axhline(y=-1.96/np.sqrt(len(a1)),linestyle='--', color = 'red')\n",
    "plt.axhline(y=1.96/np.sqrt(len(a1)),linestyle='--', color = 'red')"
   ]
  },
  {
   "cell_type": "code",
   "execution_count": null,
   "metadata": {
    "collapsed": false
   },
   "outputs": [],
   "source": [
    "a1 = ar1(phi = .5, n = 1000)\n",
    "a1_pacf = pacf(a1, nlags = 20)\n",
    "plt.plot(a1_pacf)\n",
    "plt.axhline(y=0,linestyle='--', color = 'black')\n",
    "plt.axhline(y=-1.96/np.sqrt(len(a1)),linestyle='--', color = 'red')\n",
    "plt.axhline(y=1.96/np.sqrt(len(a1)),linestyle='--', color = 'red')"
   ]
  },
  {
   "cell_type": "code",
   "execution_count": null,
   "metadata": {
    "collapsed": false
   },
   "outputs": [],
   "source": [
    "m1 = ma1(n = 1000, theta = .9)\n",
    "m1_acf = acf(m1, nlags = 20)\n",
    "plt.plot(m1_acf)\n",
    "plt.axhline(y=0,linestyle='--', color = 'black')\n",
    "plt.axhline(y=-1.96/np.sqrt(len(m1)),linestyle='--', color = 'red')\n",
    "plt.axhline(y=1.96/np.sqrt(len(m1)),linestyle='--', color = 'red')"
   ]
  },
  {
   "cell_type": "code",
   "execution_count": null,
   "metadata": {
    "collapsed": false
   },
   "outputs": [],
   "source": [
    "m1 = ma1(n = 1000, theta = .9)\n",
    "m1_pacf = pacf(m1, nlags = 20)\n",
    "plt.plot(m1_pacf)\n",
    "plt.axhline(y=0,linestyle='--', color = 'black')\n",
    "plt.axhline(y=-1.96/np.sqrt(len(m1)),linestyle='--', color = 'red')\n",
    "plt.axhline(y=1.96/np.sqrt(len(m1)),linestyle='--', color = 'red')"
   ]
  },
  {
   "cell_type": "code",
   "execution_count": null,
   "metadata": {
    "collapsed": true
   },
   "outputs": [],
   "source": []
  }
 ],
 "metadata": {
  "anaconda-cloud": {},
  "kernelspec": {
   "display_name": "Python [Root]",
   "language": "python",
   "name": "Python [Root]"
  },
  "language_info": {
   "codemirror_mode": {
    "name": "ipython",
    "version": 3
   },
   "file_extension": ".py",
   "mimetype": "text/x-python",
   "name": "python",
   "nbconvert_exporter": "python",
   "pygments_lexer": "ipython3",
   "version": "3.5.2"
  },
  "widgets": {
   "state": {},
   "version": "1.1.1"
  }
 },
 "nbformat": 4,
 "nbformat_minor": 0
}
